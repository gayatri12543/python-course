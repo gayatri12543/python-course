{
 "cells": [
  {
   "cell_type": "code",
   "execution_count": 1,
   "metadata": {},
   "outputs": [
    {
     "name": "stdout",
     "output_type": "stream",
     "text": [
      "[1, 2, 3, 4, 15]\n"
     ]
    }
   ],
   "source": [
    "list=[1,2,3,4];\n",
    "list.append(15);\n",
    "print(list);"
   ]
  },
  {
   "cell_type": "code",
   "execution_count": 3,
   "metadata": {},
   "outputs": [
    {
     "name": "stdout",
     "output_type": "stream",
     "text": [
      "[1, 2, 3, 15]\n"
     ]
    }
   ],
   "source": [
    "list=[1,2,3,4];\n",
    "list.append(15);\n",
    "del(list[3]);\n",
    "print(list);"
   ]
  },
  {
   "cell_type": "code",
   "execution_count": 8,
   "metadata": {},
   "outputs": [
    {
     "name": "stdout",
     "output_type": "stream",
     "text": [
      "[1, 2, 3, 4, 3]\n",
      "2\n",
      "1\n",
      "0\n"
     ]
    }
   ],
   "source": [
    "list=[1,2,3,4];\n",
    "list.append(3);\n",
    "print(list);\n",
    "print(list.count(3));\n",
    "print(list.count(1));\n",
    "print(list.count(5));"
   ]
  },
  {
   "cell_type": "code",
   "execution_count": 9,
   "metadata": {},
   "outputs": [
    {
     "name": "stdout",
     "output_type": "stream",
     "text": [
      "[1, 2, 3, 3, 4, 5]\n"
     ]
    }
   ],
   "source": [
    "list=[1,2,3,4,5];\n",
    "list.insert(2,3);\n",
    "print(list);"
   ]
  },
  {
   "cell_type": "code",
   "execution_count": 10,
   "metadata": {},
   "outputs": [
    {
     "name": "stdout",
     "output_type": "stream",
     "text": [
      "1\n",
      "6\n"
     ]
    }
   ],
   "source": [
    "print(list.index(2));\n",
    "print(len(list));"
   ]
  },
  {
   "cell_type": "code",
   "execution_count": 16,
   "metadata": {},
   "outputs": [
    {
     "name": "stdout",
     "output_type": "stream",
     "text": [
      "[5, 3, 2, 1]\n",
      "4\n"
     ]
    }
   ],
   "source": [
    "list=[1,2,3,4,5];\n",
    "list.reverse();\n",
    "list.remove(4);\n",
    "print(list);\n",
    "print(len(list));"
   ]
  },
  {
   "cell_type": "code",
   "execution_count": 1,
   "metadata": {},
   "outputs": [
    {
     "name": "stdout",
     "output_type": "stream",
     "text": [
      "target found\n"
     ]
    }
   ],
   "source": [
    "\n",
    "def linearsearch(a,t):\n",
    "    flag=0;\n",
    "    for i in range(len(a)):\n",
    "        if a[i]==t:\n",
    "            flag=1;\n",
    "            break;\n",
    "    if(flag!=0):\n",
    "         print(\"target found\");\n",
    "    else:\n",
    "         print(\"target not found\");\n",
    "a=[5,76,43,28,18]  \n",
    "linearsearch(a,5);\n"
   ]
  },
  {
   "cell_type": "code",
   "execution_count": 5,
   "metadata": {},
   "outputs": [
    {
     "name": "stdout",
     "output_type": "stream",
     "text": [
      "!   ! ! !   ! ! ! ! !   "
     ]
    }
   ],
   "source": [
    "def posoftar(a,t):\n",
    "    for i in range(len(a)):\n",
    "        if a[i]==t:\n",
    "            b=0;\n",
    "            while(b<i):\n",
    "                print(\"!\",end=\" \");\n",
    "                b=b+1;\n",
    "            print(end=\"  \");    \n",
    "a=[1,3,5,3,6,3]\n",
    "posoftar(a,3);"
   ]
  },
  {
   "cell_type": "code",
   "execution_count": 12,
   "metadata": {},
   "outputs": [
    {
     "name": "stdout",
     "output_type": "stream",
     "text": [
      "1\n",
      "3\n",
      "5\n",
      "total no of times element is found=\n",
      "3\n"
     ]
    }
   ],
   "source": [
    "def coutar(a,t):\n",
    "    flag=0;\n",
    "    for i in range(len(a)):\n",
    "        if a[i]==t:\n",
    "            b=0;\n",
    "            while(b<i):\n",
    "                b=b+1;\n",
    "            print(b);\n",
    "            flag=flag+1;\n",
    "    print(\"total no of times element is found=\");\n",
    "    print(flag);\n",
    "a=[1,3,5,3,6,3]\n",
    "coutar(a,3);"
   ]
  },
  {
   "cell_type": "code",
   "execution_count": 6,
   "metadata": {},
   "outputs": [
    {
     "name": "stdout",
     "output_type": "stream",
     "text": [
      "enter a no2\n",
      "element not found\n"
     ]
    }
   ],
   "source": [
    "def binary(a,t):\n",
    "    low=0;\n",
    "    high=len(a)-1;\n",
    "    while(low<=high):\n",
    "        flag=0;\n",
    "        mid=(low+high)//2;\n",
    "        if(t<a[mid]):\n",
    "            high=mid-1;\n",
    "        elif(t>a[mid]):\n",
    "            low=mid+1;\n",
    "        else:\n",
    "            print(\"element found\");\n",
    "            flag=1;\n",
    "            break;\n",
    "    if(flag==0):\n",
    "        print(\"element not found\");\n",
    "a=[1,3,5,6,8,0];\n",
    "t=int(input(\"enter a no\"));\n",
    "binary(a,t);\n",
    "\n",
    "     "
   ]
  },
  {
   "cell_type": "code",
   "execution_count": 9,
   "metadata": {},
   "outputs": [
    {
     "name": "stdout",
     "output_type": "stream",
     "text": [
      "1 4 5 8 9 "
     ]
    }
   ],
   "source": [
    "def bubble(a):\n",
    "    for i in range(len(a)-1):\n",
    "        for j in range(len(a)-1):\n",
    "            if a[j]>a[j+1]:\n",
    "                a[j],a[j+1]=a[j+1],a[j]\n",
    "    for i in range(len(a)):\n",
    "        print(a[i],end=\" \")\n",
    "list=[1,9,4,5,8]\n",
    "bubble(list)"
   ]
  },
  {
   "cell_type": "code",
   "execution_count": 12,
   "metadata": {},
   "outputs": [
    {
     "name": "stdout",
     "output_type": "stream",
     "text": [
      "str[1]= p\n",
      "str[-1]= n\n",
      "str[1:]= pplication\n",
      "str[3:-1]= licatio\n",
      "str[::-1]= noitacilppa\n",
      "application\n"
     ]
    }
   ],
   "source": [
    "str=\"application\"\n",
    "print(\"str[1]=\",str[1])\n",
    "print(\"str[-1]=\",str[-1])\n",
    "print(\"str[1:]=\",str[1:])\n",
    "print(\"str[3:-1]=\",str[3:-1])\n",
    "print(\"str[::-1]=\",str[::-1])\n",
    "print(str)"
   ]
  },
  {
   "cell_type": "code",
   "execution_count": 3,
   "metadata": {},
   "outputs": [
    {
     "name": "stdout",
     "output_type": "stream",
     "text": [
      "pallindrome\n"
     ]
    }
   ],
   "source": [
    "def pallindrome(s):\n",
    "    if(s==s[::-1]):\n",
    "        print(\"pallindrome\");\n",
    "    else:\n",
    "        print(\"not pallindrome\");\n",
    "s=\"aya\"\n",
    "pallindrome(s)"
   ]
  },
  {
   "cell_type": "code",
   "execution_count": 6,
   "metadata": {},
   "outputs": [
    {
     "data": {
      "text/plain": [
       "False"
      ]
     },
     "execution_count": 6,
     "metadata": {},
     "output_type": "execute_result"
    }
   ],
   "source": [
    "str1=\"abcd\"\n",
    "str1.isupper()"
   ]
  },
  {
   "cell_type": "code",
   "execution_count": 12,
   "metadata": {},
   "outputs": [
    {
     "data": {
      "text/plain": [
       "True"
      ]
     },
     "execution_count": 12,
     "metadata": {},
     "output_type": "execute_result"
    }
   ],
   "source": [
    "str1.islower()"
   ]
  },
  {
   "cell_type": "code",
   "execution_count": 4,
   "metadata": {},
   "outputs": [
    {
     "name": "stdout",
     "output_type": "stream",
     "text": [
      "4\n",
      "2\n"
     ]
    }
   ],
   "source": [
    "def countuppercase(str):\n",
    "    cnt=0\n",
    "    for x in range(len(str)):\n",
    "        if (ord(str[x])>=65)and(ord(str[x])<=90):\n",
    "            cnt=cnt+1;\n",
    "    return cnt\n",
    "print(countuppercase(\"AppLIcatIon\"));\n",
    "print(countuppercase(\"TesT\"));"
   ]
  },
  {
   "cell_type": "code",
   "execution_count": 9,
   "metadata": {},
   "outputs": [
    {
     "name": "stdout",
     "output_type": "stream",
     "text": [
      "ABCD\n",
      "abcd\n"
     ]
    }
   ],
   "source": [
    "s=\"abcd\"\n",
    "print(s.upper());\n",
    "st=\"ABCD\"\n",
    "print(st.lower())"
   ]
  },
  {
   "cell_type": "code",
   "execution_count": 2,
   "metadata": {},
   "outputs": [
    {
     "name": "stdout",
     "output_type": "stream",
     "text": [
      "ABCD\n",
      "abcd\n"
     ]
    }
   ],
   "source": [
    "string=\"Abcd\"\n",
    "print(string.upper())\n",
    "print(string.lower())"
   ]
  },
  {
   "cell_type": "code",
   "execution_count": 3,
   "metadata": {},
   "outputs": [
    {
     "data": {
      "text/plain": [
       "5"
      ]
     },
     "execution_count": 3,
     "metadata": {},
     "output_type": "execute_result"
    }
   ],
   "source": [
    "s1=\"a b c\"\n",
    "len(s1)"
   ]
  },
  {
   "cell_type": "code",
   "execution_count": 8,
   "metadata": {},
   "outputs": [
    {
     "data": {
      "text/plain": [
       "True"
      ]
     },
     "execution_count": 8,
     "metadata": {},
     "output_type": "execute_result"
    }
   ],
   "source": [
    "st=\"1\"\n",
    "st.isnumeric()"
   ]
  },
  {
   "cell_type": "code",
   "execution_count": 10,
   "metadata": {},
   "outputs": [
    {
     "data": {
      "text/plain": [
       "True"
      ]
     },
     "execution_count": 10,
     "metadata": {},
     "output_type": "execute_result"
    }
   ],
   "source": [
    "sr=\"a\"\n",
    "sr.isalpha()"
   ]
  },
  {
   "cell_type": "code",
   "execution_count": null,
   "metadata": {},
   "outputs": [],
   "source": []
  }
 ],
 "metadata": {
  "kernelspec": {
   "display_name": "Python 3",
   "language": "python",
   "name": "python3"
  },
  "language_info": {
   "codemirror_mode": {
    "name": "ipython",
    "version": 3
   },
   "file_extension": ".py",
   "mimetype": "text/x-python",
   "name": "python",
   "nbconvert_exporter": "python",
   "pygments_lexer": "ipython3",
   "version": "3.7.3"
  }
 },
 "nbformat": 4,
 "nbformat_minor": 2
}
